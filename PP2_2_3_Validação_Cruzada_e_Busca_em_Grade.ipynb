{
 "cells": [
  {
   "cell_type": "markdown",
   "metadata": {
    "id": "soOL1HQV5OrY"
   },
   "source": [
    "# Redes Neurais Artificiais 2025.2\n",
    "\n",
    "- **Disciplina**: Redes Neurais Artificiais 2025.2\n",
    "- **Professora**: Elloá B. Guedes (ebgcosta@uea.edu.br)  \n",
    "- **Github**: http://github.com/elloa  \n",
    "        \n",
    "\n",
    "Levando em conta a base de dados **_Forest Cover Type_**, esta parte do Projeto Prático diz respeito à proposição e avaliação de múltiplas redes neurais artificiais do tipo feedforward multilayer perceptron para o problema da classificação multi-classe da cobertura florestal em uma área do Roosevelt National Forest.\n",
    "\n",
    "## Busca em Grade\n",
    "\n",
    "Uma maneira padrão de escolher os parâmetros de um modelo de Machine Learning é por meio de uma busca em grade via força bruta. O algoritmo da busca em grade é dado como segue:\n",
    "\n",
    "1. Escolha a métrica de desempenho que você deseja maximizar  \n",
    "2. Escolha o algoritmo de Machine Learning (exemplo: redes neurais artificiais). Em seguida, defina os parâmetros ou hiperparâmetros deste tipo de modelo sobre os quais você dseja otimizar (número de épocas, taxa de aprendizado, etc.) e construa um array de valores a serem testados para cada parâmetro ou hiperparâmetro.  \n",
    "3. Defina a grade de busca, a qual é dada como o produto cartesiano de cada parâmetro a ser testado. Por exemplo, para os arrays [50, 100, 1000] e [10, 15], tem-se que a grade é [(50,10), (50,15), (100,10), (100,15), (1000,10), (1000,15)].\n",
    "4. Para cada combinação de parâmetros a serem otimizados, utilize o conjunto de treinamento para realizar uma validação cruzada (holdout ou k-fold) e calcule a métrica de avaliação no conjunto de teste (ou conjuntos de teste)\n",
    "5. Escolha a combinação de parâmetros que maximizam a métrica de avaliação. Este é o modelo otimizado.\n",
    "\n",
    "Por que esta abordagem funciona? Porque a busca em grade efetua uma pesquisa extensiva sobre as possíveis combinações de valores para cada um dos parâmetros a serem ajustados. Para cada combinação, ela estima a performance do modelo em dados novos. Por fim, o modelo com melhor métrica de desempenho é escolhido. Tem-se então que este modelo é o que melhor pode vir a generalizar mediante dados nunca antes vistos.\n",
    "\n",
    "## Efetuando a Busca em Grade sobre Hiperparâmetros das Top-6 RNAs\n",
    "\n",
    "Considerando a etapa anterior do projeto prático, foram identificadas pelo menos 6 melhores Redes Neurais para o problema da classificação multi-classe da cobertura florestal no conjunto de dados selecionado. Algumas destas redes possuem atributos categóricos como variáveis preditoras, enquanto outras possuem apenas os atributos numéricos como preditores.\n",
    "\n",
    "A primeira etapa desta segunda parte do projeto consiste em trazer para este notebook estas seis arquiteturas, ressaltando:\n",
    "\n",
    "1. Número de neurônios ocultos por camada  \n",
    "2. Função de Ativação  \n",
    "3. Utilização ou não de atributos categóricos   \n",
    "4. Desempenho médio +- desvio padrão nos testes anteriores  \n",
    "5. Número de repetições que a equipe conseguiu realizar para verificar os resultados  \n",
    "\n",
    "Elabore uma busca em grade sobre estas arquiteturas que contemple variações nos hiperparâmetros a seguir, conforme documentação de [MLPClassifier](https://scikit-learn.org/stable/modules/generated/sklearn.neural_network.MLPClassifier.html)\n",
    "\n",
    "A. Solver  (Não usar o LBFGS, pois é mais adequado para datasets pequenos)  \n",
    "B. Batch Size  \n",
    "C. Learning Rate Init  \n",
    "D. Paciência (n_iter_no_change)  \n",
    "E. Épocas  \n",
    "\n",
    "Nesta busca em grande, contemple a utilização do objeto [GridSearchCV](https://scikit-learn.org/stable/modules/generated/sklearn.model_selection.GridSearchCV.html)"
   ]
  },
  {
   "cell_type": "code",
   "execution_count": 23,
   "metadata": {
    "id": "WUsyRM0HCEDo"
   },
   "outputs": [],
   "source": [
    "import kagglehub\n",
    "import pandas as pd\n",
    "import numpy as np\n",
    "import pickle as pkl\n",
    "from prettytable import PrettyTable\n",
    "from matplotlib import pyplot as plt\n",
    "\n",
    "from sklearn.model_selection import GridSearchCV, KFold\n",
    "from sklearn.neural_network import MLPClassifier\n",
    "from sklearn.metrics import f1_score, confusion_matrix, ConfusionMatrixDisplay\n",
    "from sklearn.preprocessing import StandardScaler\n",
    "from sklearn.compose import ColumnTransformer"
   ]
  },
  {
   "cell_type": "code",
   "execution_count": 2,
   "metadata": {
    "id": "et67N4AEjZNg"
   },
   "outputs": [],
   "source": [
    "# Top 6 arquiteturas\n",
    "Top_6_architectures = [\n",
    "    {'layers' : (60, 40, 30), 'activation' : 'relu',      'categorical': False, 'stdev' : 0, 'iterations': 100},\n",
    "    {'layers' : (50, 30, 20), 'activation' : 'tanh',      'categorical': False, 'stdev' : 0, 'iterations': 100},\n",
    "    {'layers' : (100),        'activation' : 'tanh',      'categorical': False, 'stdev' : 0, 'iterations': 100},\n",
    "    {'layers' : (25, 12),     'activation' : 'logistic',  'categorical': False, 'stdev' : 0, 'iterations': 100},\n",
    "    {'layers' : (25, 12),     'activation' : 'relu',      'categorical': False, 'stdev' : 0, 'iterations': 100},\n",
    "    {'layers' : (16, 8),      'activation' : 'logistic',  'categorical': False, 'stdev' : 0, 'iterations': 100},\n",
    "]"
   ]
  },
  {
   "cell_type": "code",
   "execution_count": 3,
   "metadata": {
    "colab": {
     "base_uri": "https://localhost:8080/",
     "height": 166
    },
    "id": "xoXg9FGIdlli",
    "outputId": "a71f2c90-da33-48a9-9bdc-cf2cfc94d002"
   },
   "outputs": [
    {
     "data": {
      "text/html": [
       "<table>\n",
       "    <thead>\n",
       "        <tr>\n",
       "            <th>Arquitetura</th>\n",
       "            <th>Ativação</th>\n",
       "            <th>Atributos Categoricos</th>\n",
       "            <th>Desvio Padrão</th>\n",
       "            <th>Repetições</th>\n",
       "        </tr>\n",
       "    </thead>\n",
       "    <tbody>\n",
       "        <tr>\n",
       "            <td>(60, 40, 30)</td>\n",
       "            <td>relu</td>\n",
       "            <td>False</td>\n",
       "            <td>0</td>\n",
       "            <td>100</td>\n",
       "        </tr>\n",
       "        <tr>\n",
       "            <td>(50, 30, 20)</td>\n",
       "            <td>tanh</td>\n",
       "            <td>False</td>\n",
       "            <td>0</td>\n",
       "            <td>100</td>\n",
       "        </tr>\n",
       "        <tr>\n",
       "            <td>100</td>\n",
       "            <td>tanh</td>\n",
       "            <td>False</td>\n",
       "            <td>0</td>\n",
       "            <td>100</td>\n",
       "        </tr>\n",
       "        <tr>\n",
       "            <td>(25, 12)</td>\n",
       "            <td>logistic</td>\n",
       "            <td>False</td>\n",
       "            <td>0</td>\n",
       "            <td>100</td>\n",
       "        </tr>\n",
       "        <tr>\n",
       "            <td>(25, 12)</td>\n",
       "            <td>relu</td>\n",
       "            <td>False</td>\n",
       "            <td>0</td>\n",
       "            <td>100</td>\n",
       "        </tr>\n",
       "        <tr>\n",
       "            <td>(16, 8)</td>\n",
       "            <td>logistic</td>\n",
       "            <td>False</td>\n",
       "            <td>0</td>\n",
       "            <td>100</td>\n",
       "        </tr>\n",
       "    </tbody>\n",
       "</table>"
      ],
      "text/plain": [
       "+--------------+----------+-----------------------+---------------+------------+\n",
       "| Arquitetura  | Ativação | Atributos Categoricos | Desvio Padrão | Repetições |\n",
       "+--------------+----------+-----------------------+---------------+------------+\n",
       "| (60, 40, 30) |   relu   |         False         |       0       |    100     |\n",
       "| (50, 30, 20) |   tanh   |         False         |       0       |    100     |\n",
       "|     100      |   tanh   |         False         |       0       |    100     |\n",
       "|   (25, 12)   | logistic |         False         |       0       |    100     |\n",
       "|   (25, 12)   |   relu   |         False         |       0       |    100     |\n",
       "|   (16, 8)    | logistic |         False         |       0       |    100     |\n",
       "+--------------+----------+-----------------------+---------------+------------+"
      ]
     },
     "metadata": {},
     "output_type": "display_data"
    }
   ],
   "source": [
    "table = PrettyTable()\n",
    "table.field_names = [\"Arquitetura\", \"Ativação\", \"Atributos Categoricos\", \"Desvio Padrão\", \"Repetições\"]\n",
    "for p in Top_6_architectures:\n",
    "    table.add_row([f'{p['layers']}', f'{p['activation']}', f'{p['categorical']}', f'{p['stdev']}', f'{p['iterations']}'])\n",
    "display(table)"
   ]
  },
  {
   "cell_type": "markdown",
   "metadata": {
    "id": "cgKFBySL5OrZ"
   },
   "source": [
    "## Validação Cruzada k-fold\n",
    "\n",
    "Na elaboração da busca em grid, vamos avaliar os modelos propostos segundo uma estratégia de validação cruzada ainda não explorada até o momento: a validação cruzada k-fold. Segundo a mesma, o conjunto de dados é particionado em k partes: a cada iteração, separa-se uma das partes para teste e o modelo é treinado com as k-1 partes remanescentes. Valores sugestivos de k na literatura são k = 3, 5 ou 10, pois o custo computacional desta validação dos modelos é alto. A métrica de desempenho é resultante da média dos desempenhos nas k iterações. A figura a seguir ilustra a ideia desta avaliação\n",
    "\n",
    "<img src = \"https://ethen8181.github.io/machine-learning/model_selection/img/kfolds.png\" width=600></img>\n",
    "\n",
    "Considerando a métrica de desempenho F1-Score, considere a validação cruzada 5-fold para aferir os resultados da busca em grande anterior."
   ]
  },
  {
   "cell_type": "code",
   "execution_count": 4,
   "metadata": {
    "colab": {
     "base_uri": "https://localhost:8080/"
    },
    "id": "lP978r4vCWi-",
    "outputId": "f8d55b86-59cb-44e6-c18d-faedff984489"
   },
   "outputs": [
    {
     "name": "stdout",
     "output_type": "stream",
     "text": [
      "Path to dataset files: C:\\Users\\Felix\\.cache\\kagglehub\\datasets\\uciml\\forest-cover-type-dataset\\versions\\1\n"
     ]
    }
   ],
   "source": [
    "# Download latest version\n",
    "path = kagglehub.dataset_download(\"uciml/forest-cover-type-dataset\")\n",
    "\n",
    "print(\"Path to dataset files:\", path)"
   ]
  },
  {
   "cell_type": "code",
   "execution_count": 5,
   "metadata": {
    "colab": {
     "base_uri": "https://localhost:8080/",
     "height": 255
    },
    "id": "YD8FfmIGCW_z",
    "outputId": "08856ac1-4e6d-4e15-bbb9-b67fb4b71f02"
   },
   "outputs": [
    {
     "data": {
      "text/html": [
       "<div>\n",
       "<style scoped>\n",
       "    .dataframe tbody tr th:only-of-type {\n",
       "        vertical-align: middle;\n",
       "    }\n",
       "\n",
       "    .dataframe tbody tr th {\n",
       "        vertical-align: top;\n",
       "    }\n",
       "\n",
       "    .dataframe thead th {\n",
       "        text-align: right;\n",
       "    }\n",
       "</style>\n",
       "<table border=\"1\" class=\"dataframe\">\n",
       "  <thead>\n",
       "    <tr style=\"text-align: right;\">\n",
       "      <th></th>\n",
       "      <th>Elevation</th>\n",
       "      <th>Aspect</th>\n",
       "      <th>Slope</th>\n",
       "      <th>Horizontal_Distance_To_Hydrology</th>\n",
       "      <th>Vertical_Distance_To_Hydrology</th>\n",
       "      <th>Horizontal_Distance_To_Roadways</th>\n",
       "      <th>Hillshade_9am</th>\n",
       "      <th>Hillshade_Noon</th>\n",
       "      <th>Hillshade_3pm</th>\n",
       "      <th>Horizontal_Distance_To_Fire_Points</th>\n",
       "      <th>...</th>\n",
       "      <th>Soil_Type32</th>\n",
       "      <th>Soil_Type33</th>\n",
       "      <th>Soil_Type34</th>\n",
       "      <th>Soil_Type35</th>\n",
       "      <th>Soil_Type36</th>\n",
       "      <th>Soil_Type37</th>\n",
       "      <th>Soil_Type38</th>\n",
       "      <th>Soil_Type39</th>\n",
       "      <th>Soil_Type40</th>\n",
       "      <th>Cover_Type</th>\n",
       "    </tr>\n",
       "  </thead>\n",
       "  <tbody>\n",
       "    <tr>\n",
       "      <th>0</th>\n",
       "      <td>2596</td>\n",
       "      <td>51</td>\n",
       "      <td>3</td>\n",
       "      <td>258</td>\n",
       "      <td>0</td>\n",
       "      <td>510</td>\n",
       "      <td>221</td>\n",
       "      <td>232</td>\n",
       "      <td>148</td>\n",
       "      <td>6279</td>\n",
       "      <td>...</td>\n",
       "      <td>0</td>\n",
       "      <td>0</td>\n",
       "      <td>0</td>\n",
       "      <td>0</td>\n",
       "      <td>0</td>\n",
       "      <td>0</td>\n",
       "      <td>0</td>\n",
       "      <td>0</td>\n",
       "      <td>0</td>\n",
       "      <td>5</td>\n",
       "    </tr>\n",
       "    <tr>\n",
       "      <th>1</th>\n",
       "      <td>2590</td>\n",
       "      <td>56</td>\n",
       "      <td>2</td>\n",
       "      <td>212</td>\n",
       "      <td>-6</td>\n",
       "      <td>390</td>\n",
       "      <td>220</td>\n",
       "      <td>235</td>\n",
       "      <td>151</td>\n",
       "      <td>6225</td>\n",
       "      <td>...</td>\n",
       "      <td>0</td>\n",
       "      <td>0</td>\n",
       "      <td>0</td>\n",
       "      <td>0</td>\n",
       "      <td>0</td>\n",
       "      <td>0</td>\n",
       "      <td>0</td>\n",
       "      <td>0</td>\n",
       "      <td>0</td>\n",
       "      <td>5</td>\n",
       "    </tr>\n",
       "    <tr>\n",
       "      <th>2</th>\n",
       "      <td>2804</td>\n",
       "      <td>139</td>\n",
       "      <td>9</td>\n",
       "      <td>268</td>\n",
       "      <td>65</td>\n",
       "      <td>3180</td>\n",
       "      <td>234</td>\n",
       "      <td>238</td>\n",
       "      <td>135</td>\n",
       "      <td>6121</td>\n",
       "      <td>...</td>\n",
       "      <td>0</td>\n",
       "      <td>0</td>\n",
       "      <td>0</td>\n",
       "      <td>0</td>\n",
       "      <td>0</td>\n",
       "      <td>0</td>\n",
       "      <td>0</td>\n",
       "      <td>0</td>\n",
       "      <td>0</td>\n",
       "      <td>2</td>\n",
       "    </tr>\n",
       "    <tr>\n",
       "      <th>3</th>\n",
       "      <td>2785</td>\n",
       "      <td>155</td>\n",
       "      <td>18</td>\n",
       "      <td>242</td>\n",
       "      <td>118</td>\n",
       "      <td>3090</td>\n",
       "      <td>238</td>\n",
       "      <td>238</td>\n",
       "      <td>122</td>\n",
       "      <td>6211</td>\n",
       "      <td>...</td>\n",
       "      <td>0</td>\n",
       "      <td>0</td>\n",
       "      <td>0</td>\n",
       "      <td>0</td>\n",
       "      <td>0</td>\n",
       "      <td>0</td>\n",
       "      <td>0</td>\n",
       "      <td>0</td>\n",
       "      <td>0</td>\n",
       "      <td>2</td>\n",
       "    </tr>\n",
       "    <tr>\n",
       "      <th>4</th>\n",
       "      <td>2595</td>\n",
       "      <td>45</td>\n",
       "      <td>2</td>\n",
       "      <td>153</td>\n",
       "      <td>-1</td>\n",
       "      <td>391</td>\n",
       "      <td>220</td>\n",
       "      <td>234</td>\n",
       "      <td>150</td>\n",
       "      <td>6172</td>\n",
       "      <td>...</td>\n",
       "      <td>0</td>\n",
       "      <td>0</td>\n",
       "      <td>0</td>\n",
       "      <td>0</td>\n",
       "      <td>0</td>\n",
       "      <td>0</td>\n",
       "      <td>0</td>\n",
       "      <td>0</td>\n",
       "      <td>0</td>\n",
       "      <td>5</td>\n",
       "    </tr>\n",
       "  </tbody>\n",
       "</table>\n",
       "<p>5 rows × 55 columns</p>\n",
       "</div>"
      ],
      "text/plain": [
       "   Elevation  Aspect  Slope  Horizontal_Distance_To_Hydrology  \\\n",
       "0       2596      51      3                               258   \n",
       "1       2590      56      2                               212   \n",
       "2       2804     139      9                               268   \n",
       "3       2785     155     18                               242   \n",
       "4       2595      45      2                               153   \n",
       "\n",
       "   Vertical_Distance_To_Hydrology  Horizontal_Distance_To_Roadways  \\\n",
       "0                               0                              510   \n",
       "1                              -6                              390   \n",
       "2                              65                             3180   \n",
       "3                             118                             3090   \n",
       "4                              -1                              391   \n",
       "\n",
       "   Hillshade_9am  Hillshade_Noon  Hillshade_3pm  \\\n",
       "0            221             232            148   \n",
       "1            220             235            151   \n",
       "2            234             238            135   \n",
       "3            238             238            122   \n",
       "4            220             234            150   \n",
       "\n",
       "   Horizontal_Distance_To_Fire_Points  ...  Soil_Type32  Soil_Type33  \\\n",
       "0                                6279  ...            0            0   \n",
       "1                                6225  ...            0            0   \n",
       "2                                6121  ...            0            0   \n",
       "3                                6211  ...            0            0   \n",
       "4                                6172  ...            0            0   \n",
       "\n",
       "   Soil_Type34  Soil_Type35  Soil_Type36  Soil_Type37  Soil_Type38  \\\n",
       "0            0            0            0            0            0   \n",
       "1            0            0            0            0            0   \n",
       "2            0            0            0            0            0   \n",
       "3            0            0            0            0            0   \n",
       "4            0            0            0            0            0   \n",
       "\n",
       "   Soil_Type39  Soil_Type40  Cover_Type  \n",
       "0            0            0           5  \n",
       "1            0            0           5  \n",
       "2            0            0           2  \n",
       "3            0            0           2  \n",
       "4            0            0           5  \n",
       "\n",
       "[5 rows x 55 columns]"
      ]
     },
     "execution_count": 5,
     "metadata": {},
     "output_type": "execute_result"
    }
   ],
   "source": [
    "# Carregando a base de dados\n",
    "df = pd.read_csv(path + \"/covtype.csv\")\n",
    "df.head()"
   ]
  },
  {
   "cell_type": "code",
   "execution_count": 6,
   "metadata": {
    "id": "8I8MHP5ICccl"
   },
   "outputs": [],
   "source": [
    "# Separando preditores (X) e variável-alvo (y)\n",
    "X = df.drop(columns=[\"Cover_Type\"]);\n",
    "y = df[\"Cover_Type\"];"
   ]
  },
  {
   "cell_type": "code",
   "execution_count": 7,
   "metadata": {
    "colab": {
     "base_uri": "https://localhost:8080/"
    },
    "id": "vUP3mjcDYGIW",
    "outputId": "9b9e0a08-ad72-4ec7-a58e-c32e011a2598"
   },
   "outputs": [
    {
     "name": "stdout",
     "output_type": "stream",
     "text": [
      "Index(['Elevation', 'Aspect', 'Slope', 'Horizontal_Distance_To_Hydrology',\n",
      "       'Vertical_Distance_To_Hydrology', 'Horizontal_Distance_To_Roadways',\n",
      "       'Hillshade_9am', 'Hillshade_Noon', 'Hillshade_3pm',\n",
      "       'Horizontal_Distance_To_Fire_Points'],\n",
      "      dtype='object')\n",
      "Index(['Wilderness_Area1', 'Wilderness_Area2', 'Wilderness_Area3',\n",
      "       'Wilderness_Area4', 'Soil_Type1', 'Soil_Type2', 'Soil_Type3',\n",
      "       'Soil_Type4', 'Soil_Type5', 'Soil_Type6', 'Soil_Type7', 'Soil_Type8',\n",
      "       'Soil_Type9', 'Soil_Type10', 'Soil_Type11', 'Soil_Type12',\n",
      "       'Soil_Type13', 'Soil_Type14', 'Soil_Type15', 'Soil_Type16',\n",
      "       'Soil_Type17', 'Soil_Type18', 'Soil_Type19', 'Soil_Type20',\n",
      "       'Soil_Type21', 'Soil_Type22', 'Soil_Type23', 'Soil_Type24',\n",
      "       'Soil_Type25', 'Soil_Type26', 'Soil_Type27', 'Soil_Type28',\n",
      "       'Soil_Type29', 'Soil_Type30', 'Soil_Type31', 'Soil_Type32',\n",
      "       'Soil_Type33', 'Soil_Type34', 'Soil_Type35', 'Soil_Type36',\n",
      "       'Soil_Type37', 'Soil_Type38', 'Soil_Type39', 'Soil_Type40'],\n",
      "      dtype='object')\n"
     ]
    }
   ],
   "source": [
    "# Separando colunas numéricas e categóricas\n",
    "categorical_columns = X.columns[X.columns.str.contains(\"Soil_Type\") | X.columns.str.contains(\"Wilderness_Area\")]\n",
    "numeric_columns = X.columns.drop(categorical_columns)\n",
    "\n",
    "print(numeric_columns)\n",
    "print(categorical_columns)"
   ]
  },
  {
   "cell_type": "code",
   "execution_count": 8,
   "metadata": {
    "colab": {
     "base_uri": "https://localhost:8080/"
    },
    "id": "izvCxCePTNLL",
    "outputId": "918e3a9e-0b1f-4404-a278-d76f9cd38e92"
   },
   "outputs": [
    {
     "name": "stdout",
     "output_type": "stream",
     "text": [
      "Primeira instância da variváveis (X) escalonadas:\n",
      "[-1.29780509 -0.93515698 -1.48281978 -0.0537674  -0.79627259 -1.18014587\n",
      "  0.33074321  0.43914331  0.1429604   3.24628306  1.          0.\n",
      "  0.          0.          0.          0.          0.          0.\n",
      "  0.          0.          0.          0.          0.          0.\n",
      "  0.          0.          0.          0.          0.          0.\n",
      "  0.          0.          0.          0.          0.          0.\n",
      "  0.          0.          0.          0.          0.          0.\n",
      "  1.          0.          0.          0.          0.          0.\n",
      "  0.          0.          0.          0.          0.          0.        ]\n"
     ]
    }
   ],
   "source": [
    "# Escalonando variáveis numéricas com StandardScaler e ignorando as categoricas\n",
    "transformer = ColumnTransformer(\n",
    "    transformers=[\n",
    "        ('num', StandardScaler(), numeric_columns),\n",
    "        ('cat', 'passthrough', categorical_columns)\n",
    "    ]\n",
    ")\n",
    "\n",
    "# Escalona as Variáveis\n",
    "X_full_transformed = transformer.fit_transform(X)\n",
    "# Recupera os nomes das colunas após o ColumnTransformer\n",
    "feature_names = list(numeric_columns) + list(categorical_columns)\n",
    "# Converte de volta para DataFrame\n",
    "X_full_scaled = pd.DataFrame(X_full_transformed, columns=feature_names)\n",
    "print(f'Primeira instância da variváveis (X) escalonadas:\\n{X_full_transformed[0]}')"
   ]
  },
  {
   "cell_type": "code",
   "execution_count": null,
   "metadata": {
    "id": "sEpyQEFW5Ora"
   },
   "outputs": [],
   "source": [
    "# Arquitetura Top 6\n",
    "architectures_final = [\n",
    "    {'layers' : (60, 40, 30), 'activation' : 'relu',      'categorical': False},\n",
    "    {'layers' : (50, 30, 20), 'activation' : 'tanh',      'categorical': False},\n",
    "    {'layers' : (100),        'activation' : 'tanh',      'categorical': False},\n",
    "    {'layers' : (25, 12),     'activation' : 'logistic',  'categorical': False},\n",
    "    {'layers' : (25, 12),     'activation' : 'relu',      'categorical': False},\n",
    "    {'layers' : (16, 8),      'activation' : 'logistic',  'categorical': False},\n",
    "]\n",
    "\n",
    "# Paramatros de busca em grade\n",
    "params = {\n",
    "    'solver': ['sgd', 'adam'],\n",
    "    'batch_size': [32, 64],\n",
    "    'learning_rate_init': [0.001], 0.0001],\n",
    "    'n_iter_no_change': [5, 10],\n",
    "    'max_iter': [50, 100], # utilizando baixo número de iterações por causa do alto custo computacional.\n",
    "}"
   ]
  },
  {
   "cell_type": "code",
   "execution_count": 11,
   "metadata": {
    "colab": {
     "base_uri": "https://localhost:8080/",
     "height": 373
    },
    "id": "3_NhiCB35Ora",
    "outputId": "11d35e7a-281a-4967-ec45-240340f3685b"
   },
   "outputs": [
    {
     "name": "stdout",
     "output_type": "stream",
     "text": [
      "\n",
      "-> Processando Treino 1/6: Arquitetura: Layers=(60, 40, 30), Activation=relu, Categóricos=False\n",
      "--------------------------------------------------------------------------------\n",
      "Fitting 5 folds for each of 1 candidates, totalling 5 fits\n"
     ]
    },
    {
     "name": "stderr",
     "output_type": "stream",
     "text": [
      "C:\\Users\\Felix\\AppData\\Local\\Programs\\Python\\Python312\\Lib\\site-packages\\sklearn\\neural_network\\_multilayer_perceptron.py:781: ConvergenceWarning: Stochastic Optimizer: Maximum iterations (25) reached and the optimization hasn't converged yet.\n",
      "  warnings.warn(\n"
     ]
    },
    {
     "name": "stdout",
     "output_type": "stream",
     "text": [
      "\n",
      "-> Processando Treino 2/6: Arquitetura: Layers=(50, 30, 20), Activation=tanh, Categóricos=False\n",
      "--------------------------------------------------------------------------------\n",
      "Fitting 5 folds for each of 1 candidates, totalling 5 fits\n"
     ]
    },
    {
     "name": "stderr",
     "output_type": "stream",
     "text": [
      "C:\\Users\\Felix\\AppData\\Local\\Programs\\Python\\Python312\\Lib\\site-packages\\sklearn\\neural_network\\_multilayer_perceptron.py:781: ConvergenceWarning: Stochastic Optimizer: Maximum iterations (25) reached and the optimization hasn't converged yet.\n",
      "  warnings.warn(\n"
     ]
    },
    {
     "name": "stdout",
     "output_type": "stream",
     "text": [
      "\n",
      "-> Processando Treino 3/6: Arquitetura: Layers=100, Activation=tanh, Categóricos=False\n",
      "--------------------------------------------------------------------------------\n",
      "Fitting 5 folds for each of 1 candidates, totalling 5 fits\n"
     ]
    },
    {
     "name": "stderr",
     "output_type": "stream",
     "text": [
      "C:\\Users\\Felix\\AppData\\Local\\Programs\\Python\\Python312\\Lib\\site-packages\\sklearn\\neural_network\\_multilayer_perceptron.py:781: ConvergenceWarning: Stochastic Optimizer: Maximum iterations (25) reached and the optimization hasn't converged yet.\n",
      "  warnings.warn(\n"
     ]
    },
    {
     "name": "stdout",
     "output_type": "stream",
     "text": [
      "\n",
      "-> Processando Treino 4/6: Arquitetura: Layers=(25, 12), Activation=logistic, Categóricos=False\n",
      "--------------------------------------------------------------------------------\n",
      "Fitting 5 folds for each of 1 candidates, totalling 5 fits\n"
     ]
    },
    {
     "name": "stderr",
     "output_type": "stream",
     "text": [
      "C:\\Users\\Felix\\AppData\\Local\\Programs\\Python\\Python312\\Lib\\site-packages\\sklearn\\neural_network\\_multilayer_perceptron.py:781: ConvergenceWarning: Stochastic Optimizer: Maximum iterations (25) reached and the optimization hasn't converged yet.\n",
      "  warnings.warn(\n"
     ]
    },
    {
     "name": "stdout",
     "output_type": "stream",
     "text": [
      "\n",
      "-> Processando Treino 5/6: Arquitetura: Layers=(25, 12), Activation=relu, Categóricos=False\n",
      "--------------------------------------------------------------------------------\n",
      "Fitting 5 folds for each of 1 candidates, totalling 5 fits\n"
     ]
    },
    {
     "name": "stderr",
     "output_type": "stream",
     "text": [
      "C:\\Users\\Felix\\AppData\\Local\\Programs\\Python\\Python312\\Lib\\site-packages\\sklearn\\neural_network\\_multilayer_perceptron.py:781: ConvergenceWarning: Stochastic Optimizer: Maximum iterations (25) reached and the optimization hasn't converged yet.\n",
      "  warnings.warn(\n"
     ]
    },
    {
     "name": "stdout",
     "output_type": "stream",
     "text": [
      "\n",
      "-> Processando Treino 6/6: Arquitetura: Layers=(16, 8), Activation=logistic, Categóricos=False\n",
      "--------------------------------------------------------------------------------\n",
      "Fitting 5 folds for each of 1 candidates, totalling 5 fits\n"
     ]
    },
    {
     "name": "stderr",
     "output_type": "stream",
     "text": [
      "C:\\Users\\Felix\\AppData\\Local\\Programs\\Python\\Python312\\Lib\\site-packages\\sklearn\\neural_network\\_multilayer_perceptron.py:781: ConvergenceWarning: Stochastic Optimizer: Maximum iterations (25) reached and the optimization hasn't converged yet.\n",
      "  warnings.warn(\n"
     ]
    }
   ],
   "source": [
    "resultados_grid_search = []\n",
    "cv_kfold = KFold(n_splits=5, shuffle=True, random_state=42) # Validação Cruzada em 5 folds\n",
    "scoring_metric = 'f1_weighted' # Métrica de desempenho f1_score\n",
    "\n",
    "for i, arch in enumerate(architectures_final):\n",
    "    print(f\"\\n-> Processando Treino {i+1}/{len(architectures_final)}: Arquitetura: Layers={arch['layers']}, Activation={arch['activation']}, Categóricos={arch['categorical']}\")\n",
    "    print(\"-\" * 80)\n",
    "\n",
    "    if arch['categorical']:\n",
    "      X_train = X_full_scaled\n",
    "    else:\n",
    "      X_train = X_full_scaled[numeric_columns]\n",
    "    \n",
    "    mlp = MLPClassifier(\n",
    "      hidden_layer_sizes=arch['layers'],\n",
    "      activation=arch['activation']\n",
    "      )\n",
    "\n",
    "    search = GridSearchCV(\n",
    "        estimator=mlp,\n",
    "        param_grid=params,\n",
    "        scoring=scoring_metric,\n",
    "        cv=cv_kfold,\n",
    "        n_jobs=6,\n",
    "        verbose=3\n",
    "    )\n",
    "\n",
    "    search.fit(X_train, y)\n",
    "\n",
    "    best_params = search.best_params_\n",
    "    best_score = search.best_score_\n",
    "\n",
    "    resultados_grid_search.append(\n",
    "        {\n",
    "            'architecture': arch,\n",
    "            'best_params': best_params,\n",
    "            'best_score': best_score,\n",
    "            'search_object' : search\n",
    "        }\n",
    "    )"
   ]
  },
  {
   "cell_type": "markdown",
   "metadata": {
    "id": "rxKiKsr05Ora"
   },
   "source": [
    "## Identificando a mellhor solução\n",
    "\n",
    "Como resultado da busca em grande com validação cruzada 5-fold, identifique o modelo otimizado com melhor desempenho para o problema. Apresente claramente este modelo, seus parâmetros, hiperparâmetros otimizados e resultados para cada um dos folds avaliados. Esta é a melhor solução identificada em decorrência deste projeto"
   ]
  },
  {
   "cell_type": "code",
   "execution_count": 12,
   "metadata": {
    "id": "J_XMPL-c5Ora"
   },
   "outputs": [],
   "source": [
    "melhor_resultado = max(resultados_grid_search, key=lambda x: x['best_score'])\n",
    "\n",
    "melhor_arquitetura = melhor_resultado['architecture']\n",
    "melhor_score_medio = melhor_resultado['best_score']\n",
    "melhores_hiperparametros = melhor_resultado['best_params']\n",
    "search_vencedor = melhor_resultado['search_object']\n",
    "\n",
    "indice_melhor_combinacao = search_vencedor.best_index_\n",
    "\n",
    "cv_results = search_vencedor.cv_results_\n",
    "pontuacoes_folds = [cv_results[f'split{i}_test_score'][indice_melhor_combinacao] for i in range(5)]"
   ]
  },
  {
   "cell_type": "code",
   "execution_count": 30,
   "metadata": {
    "id": "_nfbUT3A5Ora"
   },
   "outputs": [
    {
     "name": "stdout",
     "output_type": "stream",
     "text": [
      "+-----------------------------------------------+\n",
      "| Modelo Otimizado com Melhor Desempenho Global |\n",
      "+------------------------------+----------------+\n",
      "| Detalhe                      | Valor          |\n",
      "+------------------------------+----------------+\n",
      "| Arquitetura Base (Camadas)   | (50, 30, 20)   |\n",
      "| Função de Ativação           | tanh           |\n",
      "| Uso de Categóricos           | Não            |\n",
      "| ---                          | ---            |\n",
      "| HIPERPARÂMETROS OTIMIZADOS   |                |\n",
      "|    - Batch Size              | 32             |\n",
      "|    - Learning Rate Init      | 0.001          |\n",
      "|    - Max Iter                | 25             |\n",
      "|    - N Iter No Change        | 10             |\n",
      "|    - Solver                  | sgd            |\n",
      "| ---                          | ---            |\n",
      "| MÉTRICA DE DESEMPENHO        | F1-Weighted    |\n",
      "| F1-SCORE MÉDIO (5-Fold)      | 0.8096         |\n",
      "+------------------------------+----------------+\n",
      "+--------------------------------------+\n",
      "| Desempenho Detalhado por Fold (K=5)  |\n",
      "+-------------------+------------------+\n",
      "| Fold de Validação | F1-Score (Teste) |\n",
      "+-------------------+------------------+\n",
      "| Fold 1            |      0.8049      |\n",
      "| Fold 2            |      0.8073      |\n",
      "| Fold 3            |      0.8115      |\n",
      "| Fold 4            |      0.8139      |\n",
      "| Fold 5            |      0.8104      |\n",
      "| ---               |       ---        |\n",
      "| Média (Final)     |      0.8096      |\n",
      "+-------------------+------------------+\n"
     ]
    }
   ],
   "source": [
    "# 1. Tabela de Detalhes do Modelo\n",
    "details_table = PrettyTable()\n",
    "details_table.title = \"Modelo Otimizado com Melhor Desempenho Global\"\n",
    "details_table.field_names = [\"Detalhe\", \"Valor\"]\n",
    "details_table.align[\"Detalhe\"] = \"l\"\n",
    "details_table.align[\"Valor\"] = \"l\"\n",
    "\n",
    "# Informações da Arquitetura Base\n",
    "details_table.add_row([\"Arquitetura Base (Camadas)\", str(melhor_arquitetura['layers'])])\n",
    "details_table.add_row([\"Função de Ativação\", melhor_arquitetura['activation']])\n",
    "details_table.add_row([\"Uso de Categóricos\", \"Sim\" if melhor_arquitetura['categorical'] else \"Não\"])\n",
    "details_table.add_row([\"---\", \"---\"])\n",
    "\n",
    "# Hiperparâmetros Otimizados\n",
    "details_table.add_row([\"HIPERPARÂMETROS OTIMIZADOS\", \"\"])\n",
    "for param, value in melhores_hiperparametros.items():\n",
    "    details_table.add_row([f\"   - {param.replace('_', ' ').title()}\", str(value)])\n",
    "    \n",
    "details_table.add_row([\"---\", \"---\"])\n",
    "\n",
    "# Desempenho\n",
    "details_table.add_row([\"MÉTRICA DE DESEMPENHO\", \"F1-Weighted\"])\n",
    "details_table.add_row([\"F1-SCORE MÉDIO (5-Fold)\", f\"{melhor_score_medio:.4f}\"])\n",
    "\n",
    "print(details_table)\n",
    "\n",
    "# 2. Tabela de Desempenho por Fold\n",
    "folds_table = PrettyTable()\n",
    "folds_table.title = \"Desempenho Detalhado por Fold (K=5)\"\n",
    "folds_table.field_names = [\"Fold de Validação\", \"F1-Score (Teste)\"]\n",
    "folds_table.float_format = \".4\"\n",
    "folds_table.align[\"Fold de Validação\"] = \"l\"\n",
    "\n",
    "for i, score in enumerate(pontuacoes_folds):\n",
    "    folds_table.add_row([f\"Fold {i+1}\", score])\n",
    "    \n",
    "# Adiciona a linha da Média\n",
    "folds_table.add_row([\"---\", \"---\"])\n",
    "folds_table.add_row([\"Média (Final)\", melhor_score_medio])\n",
    "\n",
    "print(folds_table)"
   ]
  },
  {
   "cell_type": "markdown",
   "metadata": {
    "id": "0ovuUTbe5Ora"
   },
   "source": [
    "## Empacotando a solução\n",
    "\n",
    "Suponha que você deve entregar este classificador ao órgão responsável por administrar o Roosevelt National Park. Para tanto, você deve fazer uma preparação do mesmo para utilização neste cenário. Uma vez que já identificou os melhores parâmetros e hiperparâmetros, o passo remanescente consiste em treinar o modelo com estes valores e todos os dados disponíveis, salvando o conjunto de pesos do modelo ao final para entrega ao cliente. Assim, finalize o projeto prático realizando tais passos.\n",
    "\n",
    "1. Consulte a documentação a seguir:\n",
    "https://scikit-learn.org/stable/modules/model_persistence.html  \n",
    "2. Treine o modelo com todos os dados  \n",
    "3. Salve o modelo em disco  \n",
    "4. Construa uma rotina que recupere o modelo em disco  \n",
    "5. Mostre que a rotina é funcional, fazendo previsões com todos os elementos do dataset e exibindo uma matriz de confusão das mesmas"
   ]
  },
  {
   "cell_type": "code",
   "execution_count": 14,
   "metadata": {
    "id": "7oNVxfGZ5Ora"
   },
   "outputs": [],
   "source": [
    "def save_model_and_scaler(model, scaler):\n",
    "    '''\n",
    "    Função que utiliza o módulo Pickle para salvar o modelo e o scaler\n",
    "    em arquivos binários.\n",
    "\n",
    "    :param model: MLPClassifier treinado.\n",
    "    :param scaler: ColumnTransformer (que contém o StandardScaler) ajustado aos dados.\n",
    "    '''\n",
    "    # Garantindo que o ColumnTransformer (o scaler) seja salvo\n",
    "    with open('scaler.pkl', 'wb') as file:\n",
    "        pkl.dump(scaler, file)\n",
    "        \n",
    "    # Salvando o modelo\n",
    "    with open('model.pkl', 'wb') as file:\n",
    "        pkl.dump(model, file)\n",
    "    print(\"Modelo (model.pkl) e Transformer (scaler.pkl) salvos com sucesso.\")"
   ]
  },
  {
   "cell_type": "code",
   "execution_count": 15,
   "metadata": {
    "id": "rUqGad7joUUu"
   },
   "outputs": [],
   "source": [
    "def load_model_and_scaler():\n",
    "    '''\n",
    "    Função que utiliza o módulo Pickle para carregar arquivos binários em objetos python.\n",
    "\n",
    "    :return (MLPClassifier, ColumnTransformer) (model, scaler)\n",
    "    '''\n",
    "    try:\n",
    "        with open('scaler.pkl', 'rb') as file:\n",
    "            scaler = pkl.load(file)\n",
    "        with open('model.pkl', 'rb') as file:\n",
    "            model = pkl.load(file)\n",
    "        print(\"Modelo e Transformer carregados com sucesso.\")\n",
    "        return (model, scaler)\n",
    "    except FileNotFoundError:\n",
    "        print(\"Erro: Arquivo do modelo ou do transformer não encontrado.\")\n",
    "        return None, None"
   ]
  },
  {
   "cell_type": "code",
   "execution_count": 16,
   "metadata": {},
   "outputs": [
    {
     "name": "stdout",
     "output_type": "stream",
     "text": [
      "\n",
      "Modelo Otimizado recuperado de 'search_vencedor.best_estimator_'.\n",
      "Arquitetura: (50, 30, 20),\n",
      "         Solver: sgd,\n",
      "         Max Iter: 25\n",
      "Modelo (model.pkl) e Transformer (scaler.pkl) salvos com sucesso.\n"
     ]
    }
   ],
   "source": [
    "best_model = search_vencedor.best_estimator_\n",
    "\n",
    "print(\"\\nModelo Otimizado recuperado de 'search_vencedor.best_estimator_'.\")\n",
    "print(f\"Arquitetura: {best_model.hidden_layer_sizes},\\n \\\n",
    "        Solver: {best_model.solver},\\n \\\n",
    "        Max Iter: {best_model.max_iter}\")\n",
    "\n",
    "save_model_and_scaler(best_model, transformer) # salvando melhor modelo encontrado e escalonador"
   ]
  },
  {
   "cell_type": "code",
   "execution_count": 18,
   "metadata": {},
   "outputs": [
    {
     "name": "stdout",
     "output_type": "stream",
     "text": [
      "Modelo e Transformer carregados com sucesso.\n"
     ]
    }
   ],
   "source": [
    "model, scaler = load_model_and_scaler() # carregando melhor modelo e escalonador"
   ]
  },
  {
   "cell_type": "code",
   "execution_count": 19,
   "metadata": {
    "id": "KANzhXWgoUdL"
   },
   "outputs": [],
   "source": [
    "if melhor_arquitetura['categorical']:\n",
    "    X_final = X_full_scaled\n",
    "else:\n",
    "    X_final = X_full_scaled[numeric_columns]\n",
    "\n",
    "y_pred = model.predict(X_final)"
   ]
  },
  {
   "cell_type": "code",
   "execution_count": 24,
   "metadata": {
    "id": "pHFNnb9GoUl4"
   },
   "outputs": [
    {
     "data": {
      "image/png": "[encoded data removed]",
      "text/plain": [
       "<Figure size 1000x1000 with 2 Axes>"
      ]
     },
     "metadata": {},
     "output_type": "display_data"
    }
   ],
   "source": [
    "cm = confusion_matrix(y, y_pred)\n",
    "disp = ConfusionMatrixDisplay(confusion_matrix=cm, display_labels=sorted(y.unique()))\n",
    "fig, ax = plt.subplots(figsize=(10, 10))\n",
    "disp.plot(ax=ax, cmap='Blues', values_format='d')\n",
    "plt.show()"
   ]
  }
 ],
 "metadata": {
  "colab": {
   "provenance": []
  },
  "kernelspec": {
   "display_name": "Python 3 (ipykernel)",
   "language": "python",
   "name": "python3"
  },
  "language_info": {
   "codemirror_mode": {
    "name": "ipython",
    "version": 3
   },
   "file_extension": ".py",
   "mimetype": "text/x-python",
   "name": "python",
   "nbconvert_exporter": "python",
   "pygments_lexer": "ipython3",
   "version": "3.12.2"
  }
 },
 "nbformat": 4,
 "nbformat_minor": 4
}
